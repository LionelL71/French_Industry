{
 "cells": [
  {
   "cell_type": "markdown",
   "id": "cee68a6c",
   "metadata": {},
   "source": [
    "Projet Septembre 2022"
   ]
  },
  {
   "cell_type": "code",
   "execution_count": 2,
   "id": "e5b8a4e6",
   "metadata": {},
   "outputs": [],
   "source": [
    "#import des differents packs dont j'aurais besoin lors du projet\n",
    "import numpy as np #import Numpy\n",
    "import pandas as pd #import pandas\n",
    "import sqlite3 #import sql\n",
    "import matplotlib.pyplot as plt\n",
    "%matplotlib inline\n",
    "import seaborn as sns\n",
    "sns.set_theme()"
   ]
  },
  {
   "cell_type": "code",
   "execution_count": 3,
   "id": "8d43d6dd",
   "metadata": {},
   "outputs": [
    {
     "name": "stderr",
     "output_type": "stream",
     "text": [
      "C:\\Users\\J21544\\Anaconda2\\lib\\site-packages\\IPython\\core\\interactiveshell.py:3444: DtypeWarning: Columns (1) have mixed types.Specify dtype option on import or set low_memory=False.\n",
      "  exec(code_obj, self.user_global_ns, self.user_ns)\n"
     ]
    }
   ],
   "source": [
    "df=pd.read_csv('population.csv')"
   ]
  },
  {
   "cell_type": "code",
   "execution_count": 4,
   "id": "b286e117",
   "metadata": {},
   "outputs": [
    {
     "data": {
      "text/html": [
       "<div>\n",
       "<style scoped>\n",
       "    .dataframe tbody tr th:only-of-type {\n",
       "        vertical-align: middle;\n",
       "    }\n",
       "\n",
       "    .dataframe tbody tr th {\n",
       "        vertical-align: top;\n",
       "    }\n",
       "\n",
       "    .dataframe thead th {\n",
       "        text-align: right;\n",
       "    }\n",
       "</style>\n",
       "<table border=\"1\" class=\"dataframe\">\n",
       "  <thead>\n",
       "    <tr style=\"text-align: right;\">\n",
       "      <th></th>\n",
       "      <th>NIVGEO</th>\n",
       "      <th>CODGEO</th>\n",
       "      <th>LIBGEO</th>\n",
       "      <th>MOCO</th>\n",
       "      <th>AGEQ80_17</th>\n",
       "      <th>SEXE</th>\n",
       "      <th>NB</th>\n",
       "    </tr>\n",
       "  </thead>\n",
       "  <tbody>\n",
       "    <tr>\n",
       "      <th>0</th>\n",
       "      <td>COM</td>\n",
       "      <td>1001</td>\n",
       "      <td>L'Abergement-Clémenciat</td>\n",
       "      <td>11</td>\n",
       "      <td>0</td>\n",
       "      <td>1</td>\n",
       "      <td>15</td>\n",
       "    </tr>\n",
       "    <tr>\n",
       "      <th>1</th>\n",
       "      <td>COM</td>\n",
       "      <td>1001</td>\n",
       "      <td>L'Abergement-Clémenciat</td>\n",
       "      <td>11</td>\n",
       "      <td>0</td>\n",
       "      <td>2</td>\n",
       "      <td>15</td>\n",
       "    </tr>\n",
       "    <tr>\n",
       "      <th>2</th>\n",
       "      <td>COM</td>\n",
       "      <td>1001</td>\n",
       "      <td>L'Abergement-Clémenciat</td>\n",
       "      <td>11</td>\n",
       "      <td>5</td>\n",
       "      <td>1</td>\n",
       "      <td>20</td>\n",
       "    </tr>\n",
       "    <tr>\n",
       "      <th>3</th>\n",
       "      <td>COM</td>\n",
       "      <td>1001</td>\n",
       "      <td>L'Abergement-Clémenciat</td>\n",
       "      <td>11</td>\n",
       "      <td>5</td>\n",
       "      <td>2</td>\n",
       "      <td>20</td>\n",
       "    </tr>\n",
       "    <tr>\n",
       "      <th>4</th>\n",
       "      <td>COM</td>\n",
       "      <td>1001</td>\n",
       "      <td>L'Abergement-Clémenciat</td>\n",
       "      <td>11</td>\n",
       "      <td>10</td>\n",
       "      <td>1</td>\n",
       "      <td>20</td>\n",
       "    </tr>\n",
       "  </tbody>\n",
       "</table>\n",
       "</div>"
      ],
      "text/plain": [
       "  NIVGEO CODGEO                   LIBGEO  MOCO  AGEQ80_17  SEXE  NB\n",
       "0    COM   1001  L'Abergement-Clémenciat    11          0     1  15\n",
       "1    COM   1001  L'Abergement-Clémenciat    11          0     2  15\n",
       "2    COM   1001  L'Abergement-Clémenciat    11          5     1  20\n",
       "3    COM   1001  L'Abergement-Clémenciat    11          5     2  20\n",
       "4    COM   1001  L'Abergement-Clémenciat    11         10     1  20"
      ]
     },
     "execution_count": 4,
     "metadata": {},
     "output_type": "execute_result"
    }
   ],
   "source": [
    "df.head()"
   ]
  },
  {
   "cell_type": "code",
   "execution_count": 4,
   "id": "2d6b4913",
   "metadata": {},
   "outputs": [
    {
     "data": {
      "text/plain": [
       "<bound method NDFrame.describe of         NIVGEO CODGEO                   LIBGEO  MOCO  AGEQ80_17  SEXE  NB\n",
       "0          COM   1001  L'Abergement-Clémenciat    11          0     1  15\n",
       "1          COM   1001  L'Abergement-Clémenciat    11          0     2  15\n",
       "2          COM   1001  L'Abergement-Clémenciat    11          5     1  20\n",
       "3          COM   1001  L'Abergement-Clémenciat    11          5     2  20\n",
       "4          COM   1001  L'Abergement-Clémenciat    11         10     1  20\n",
       "...        ...    ...                      ...   ...        ...   ...  ..\n",
       "8536579    COM  97424                   Cilaos    32         70     2  34\n",
       "8536580    COM  97424                   Cilaos    32         75     1   8\n",
       "8536581    COM  97424                   Cilaos    32         75     2  42\n",
       "8536582    COM  97424                   Cilaos    32         80     1   0\n",
       "8536583    COM  97424                   Cilaos    32         80     2  21\n",
       "\n",
       "[8536584 rows x 7 columns]>"
      ]
     },
     "execution_count": 4,
     "metadata": {},
     "output_type": "execute_result"
    }
   ],
   "source": [
    "df.describe"
   ]
  },
  {
   "cell_type": "code",
   "execution_count": 7,
   "id": "782a5b59",
   "metadata": {},
   "outputs": [
    {
     "name": "stdout",
     "output_type": "stream",
     "text": [
      "<class 'pandas.core.frame.DataFrame'>\n",
      "RangeIndex: 8536584 entries, 0 to 8536583\n",
      "Data columns (total 7 columns):\n",
      " #   Column     Dtype \n",
      "---  ------     ----- \n",
      " 0   NIVGEO     object\n",
      " 1   CODGEO     object\n",
      " 2   LIBGEO     object\n",
      " 3   MOCO       int64 \n",
      " 4   AGEQ80_17  int64 \n",
      " 5   SEXE       int64 \n",
      " 6   NB         int64 \n",
      "dtypes: int64(4), object(3)\n",
      "memory usage: 455.9+ MB\n"
     ]
    }
   ],
   "source": [
    "df.info()"
   ]
  },
  {
   "cell_type": "code",
   "execution_count": 6,
   "id": "1ee33608",
   "metadata": {},
   "outputs": [
    {
     "name": "stdout",
     "output_type": "stream",
     "text": [
      "NIVGEO       0\n",
      "CODGEO       0\n",
      "LIBGEO       0\n",
      "MOCO         0\n",
      "AGEQ80_17    0\n",
      "SEXE         0\n",
      "NB           0\n",
      "dtype: int64 \n",
      "\n"
     ]
    }
   ],
   "source": [
    "#recherche des valeurs manquantes dans l'ensemble du dataframe\n",
    "print(df.isna().sum(),'\\n')"
   ]
  },
  {
   "cell_type": "code",
   "execution_count": null,
   "id": "2e68422b",
   "metadata": {},
   "outputs": [],
   "source": []
  }
 ],
 "metadata": {
  "kernelspec": {
   "display_name": "Python 3 (ipykernel)",
   "language": "python",
   "name": "python3"
  },
  "language_info": {
   "codemirror_mode": {
    "name": "ipython",
    "version": 3
   },
   "file_extension": ".py",
   "mimetype": "text/x-python",
   "name": "python",
   "nbconvert_exporter": "python",
   "pygments_lexer": "ipython3",
   "version": "3.9.7"
  }
 },
 "nbformat": 4,
 "nbformat_minor": 5
}
